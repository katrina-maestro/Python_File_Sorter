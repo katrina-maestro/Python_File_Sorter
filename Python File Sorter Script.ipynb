{
 "cells": [
  {
   "cell_type": "markdown",
   "id": "aae32705",
   "metadata": {},
   "source": [
    "# Automated File Sorter in File Explorer"
   ]
  },
  {
   "cell_type": "code",
   "execution_count": 1,
   "id": "c83e488b",
   "metadata": {},
   "outputs": [],
   "source": [
    "import os, shutil"
   ]
  },
  {
   "cell_type": "code",
   "execution_count": 2,
   "id": "c6237e29",
   "metadata": {},
   "outputs": [],
   "source": [
    "path = r\"C:/Users/katri/OneDrive/Desktop/Data practice/Python/File Sorter Project/\""
   ]
  },
  {
   "cell_type": "code",
   "execution_count": 3,
   "id": "b18ac15e",
   "metadata": {},
   "outputs": [],
   "source": [
    "file_name= os.listdir(path)"
   ]
  },
  {
   "cell_type": "code",
   "execution_count": 4,
   "id": "e5c57c63",
   "metadata": {},
   "outputs": [
    {
     "data": {
      "text/plain": [
       "['CASE STUDY OUTLINE.png',\n",
       " 'Case Stydy Template.pptx.pdf',\n",
       " 'Just a fake text file.txt',\n",
       " 'Orders.xlsx',\n",
       " 'pdf files',\n",
       " 'png files',\n",
       " 'text files',\n",
       " 'xlsx files']"
      ]
     },
     "execution_count": 4,
     "metadata": {},
     "output_type": "execute_result"
    }
   ],
   "source": [
    "file_name "
   ]
  },
  {
   "cell_type": "code",
   "execution_count": 5,
   "id": "f3a5ad5a",
   "metadata": {},
   "outputs": [
    {
     "data": {
      "text/plain": [
       "['CASE STUDY OUTLINE.png',\n",
       " 'Case Stydy Template.pptx.pdf',\n",
       " 'Just a fake text file.txt',\n",
       " 'Orders.xlsx',\n",
       " 'pdf files',\n",
       " 'png files',\n",
       " 'text files',\n",
       " 'xlsx files']"
      ]
     },
     "execution_count": 5,
     "metadata": {},
     "output_type": "execute_result"
    }
   ],
   "source": [
    "#creating the folders to arrange the files in \n",
    "\n",
    "folder_names = [\"xlsx files\",\"pdf files \",\"text files\", \"png files\"]\n",
    "\n",
    "for loop in range(0,4):\n",
    "    if not os.path.exists(path+ folder_names[loop]):\n",
    "        os.makedirs(path+ folder_names[loop])\n",
    "os.listdir(path)"
   ]
  },
  {
   "cell_type": "code",
   "execution_count": 6,
   "id": "dbdfcf6b",
   "metadata": {},
   "outputs": [
    {
     "name": "stdout",
     "output_type": "stream",
     "text": [
      "The file extension is stubborn haha\n",
      "The file extension is stubborn haha\n",
      "The file extension is stubborn haha\n",
      "The file extension is stubborn haha\n"
     ]
    }
   ],
   "source": [
    "#logic \n",
    "#for each file in the folder, we are going to check if there is a file with a specific extension that is not in the folder its supposed to go to\n",
    "# we then use shutil to identify the old path and file, and move it to a new path\n",
    "\n",
    "\n",
    "for file in file_name:\n",
    "    if \".xlsx\" in file and not os.path.exists(path + \"xlsx files/\"+ file):\n",
    "        shutil.move(path + file, path + \"xlsx files/\" + file)\n",
    "    elif \".png\" in file and not os.path.exists(path + \"png files/\"+ file):\n",
    "        shutil.move(path + file, path + \"png files/\" + file)\n",
    "    elif \".pdf\" in file and not os.path.exists(path + \"pdf files/\"+ file):\n",
    "        shutil.move(path + file, path + \"pdf files/\" + file)\n",
    "    elif \".txt\" in file and not os.path.exists(path + \"text files/\"+ file):\n",
    "        shutil.move(path + file, path + \"text files/\" + file)\n",
    "    else: \n",
    "        print(\"The file extension is stubborn haha\")"
   ]
  },
  {
   "cell_type": "code",
   "execution_count": null,
   "id": "0fc9aa46",
   "metadata": {},
   "outputs": [],
   "source": []
  }
 ],
 "metadata": {
  "kernelspec": {
   "display_name": "Python 3 (ipykernel)",
   "language": "python",
   "name": "python3"
  },
  "language_info": {
   "codemirror_mode": {
    "name": "ipython",
    "version": 3
   },
   "file_extension": ".py",
   "mimetype": "text/x-python",
   "name": "python",
   "nbconvert_exporter": "python",
   "pygments_lexer": "ipython3",
   "version": "3.9.1"
  }
 },
 "nbformat": 4,
 "nbformat_minor": 5
}
